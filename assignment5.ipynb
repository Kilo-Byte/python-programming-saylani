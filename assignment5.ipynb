{
 "cells": [
  {
   "cell_type": "code",
   "execution_count": 32,
   "metadata": {},
   "outputs": [
    {
     "name": "stdout",
     "output_type": "stream",
     "text": [
      "Enter A number to calculate the Factorial of: 7\n",
      "\n",
      "___________**********___________\n",
      "\n",
      " The Factorial is  5040 \n",
      "___________**********___________\n",
      "\n"
     ]
    }
   ],
   "source": [
    "inp= int(input(\"Enter A number to calculate the Factorial of: \"))\n",
    "\n",
    "def calc_factorial(num):\n",
    "    if num == 0:\n",
    "        \n",
    "        return 1\n",
    "    else:\n",
    "        return num * calc_factorial(num-1)\n",
    "print(\"\\n___________**********___________\\n\\n The Factorial is \" ,calc_factorial(inp)  , \"\\n___________**********___________\\n\")"
   ]
  },
  {
   "cell_type": "code",
   "execution_count": 80,
   "metadata": {},
   "outputs": [
    {
     "name": "stdout",
     "output_type": "stream",
     "text": [
      "enter a text to calculate upper case and lower case letter :I Love PAKISTAN.\n",
      "\n",
      "_________**   I Love PAKISTAN.   **_________\n",
      "\n",
      "The uper case letters in above word/sentence is/are :=> 10\n",
      "The lower case letters in above word/sentence is/are :=> 3\n"
     ]
    }
   ],
   "source": [
    "# calculate upper case and lower case letters\n",
    "\n",
    "inp= input(\"enter a text to calculate upper case and lower case letter :\")\n",
    "\n",
    "def calc_string(txt):\n",
    "    \n",
    "    upper_case =0 \n",
    "    lower_case =0\n",
    "    for char in txt:\n",
    "        if char.isupper():            \n",
    "            upper_case +=1\n",
    "            # print(\"The uper case is :\", upper_case)\n",
    "        elif char.islower():\n",
    "            \n",
    "            lower_case +=1;\n",
    "            \n",
    "     \n",
    "    print(\"The uper case letters in above word/sentence is/are :=>\", upper_case)\n",
    "    print(\"The lower case letters in above word/sentence is/are :=>\", lower_case)\n",
    "print(\"\\n_________**  \",inp,\"  **_________\\n\")\n",
    "\n",
    "calc_string(inp)\n",
    "    "
   ]
  },
  {
   "cell_type": "code",
   "execution_count": 101,
   "metadata": {},
   "outputs": [
    {
     "name": "stdout",
     "output_type": "stream",
     "text": [
      "12\n",
      "78\n",
      "98\n",
      "100\n",
      "46\n"
     ]
    }
   ],
   "source": [
    "def find_even_in_list():\n",
    "    my_list=[15,12,78,98,100,17,31,46]\n",
    "    for i in my_list:\n",
    "        if i % 2 ==0:\n",
    "            print(i)\n",
    "        \n",
    "        \n",
    "\n",
    "find_even_in_list()"
   ]
  },
  {
   "cell_type": "code",
   "execution_count": 125,
   "metadata": {},
   "outputs": [
    {
     "name": "stdout",
     "output_type": "stream",
     "text": [
      "Enter a number 3\n",
      "Thats a prime number\n"
     ]
    }
   ],
   "source": [
    "inp=int(input(\"Enter a number \"))\n",
    "def prime_or_not(num):\n",
    "    for check_num in range(2,num):\n",
    "        if num % check_num == 0:\n",
    "            \n",
    "            print(\"That's not  a prime number \")\n",
    "            break;\n",
    "    else:\n",
    "        print(\"Thats a prime number\")\n",
    "prime_or_not(inp)"
   ]
  },
  {
   "cell_type": "code",
   "execution_count": 124,
   "metadata": {},
   "outputs": [
    {
     "name": "stdout",
     "output_type": "stream",
     "text": [
      "\n",
      "________________   LIST ITEMS YOU BOUGHT   ________________\n",
      "\n",
      "The name of Item is :=>  dalda\n",
      "The name of Item is :=>  tapal\n",
      "The name of Item is :=>  sugar\n",
      "The name of Item is :=>  oil\n",
      "The name of Item is :=>  cloths\n"
     ]
    }
   ],
   "source": [
    "def arbitary_func(*items): \n",
    "    print(\"\\n________________   LIST ITEMS YOU BOUGHT   ________________\\n\")\n",
    "    for i in items:\n",
    "            \n",
    "            print(\"The name of Item is :=> \", i)\n",
    "           \n",
    "        \n",
    "arbitary_func('dalda','tapal','sugar','oil','cloths')"
   ]
  },
  {
   "cell_type": "code",
   "execution_count": 126,
   "metadata": {},
   "outputs": [
    {
     "name": "stdout",
     "output_type": "stream",
     "text": [
      "Enter a word to check the word is Palindrome or NOT!madam\n",
      "\n",
      " Waooooo ..  The entered string is Palindrome  madam\n"
     ]
    }
   ],
   "source": [
    "#NOTE: it checks all the characters as same it is entered. the capital character in a word is different from small character\n",
    "# eg: Madam is not equal to madam but when it comes to center character, it reads same as palindrome defination is refer. \n",
    "\n",
    "\n",
    "string= input(\"Enter a word to check the word is Palindrome or NOT!\")\n",
    "def palindrome(string):\n",
    "    str_chk=string[::-1]\n",
    "    if str_chk == string:\n",
    "        \n",
    "        print(\"\\n Waooooo ..  The entered string is Palindrome \",str_chk)\n",
    "    else:\n",
    "        print(\"The entered string is not a Palindrome \",str_chk)\n",
    "\n",
    "palindrome(string)"
   ]
  },
  {
   "cell_type": "code",
   "execution_count": null,
   "metadata": {},
   "outputs": [],
   "source": []
  }
 ],
 "metadata": {
  "kernelspec": {
   "display_name": "Python 3",
   "language": "python",
   "name": "python3"
  },
  "language_info": {
   "codemirror_mode": {
    "name": "ipython",
    "version": 3
   },
   "file_extension": ".py",
   "mimetype": "text/x-python",
   "name": "python",
   "nbconvert_exporter": "python",
   "pygments_lexer": "ipython3",
   "version": "3.7.4"
  }
 },
 "nbformat": 4,
 "nbformat_minor": 2
}
