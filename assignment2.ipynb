{
 "cells": [
  {
   "cell_type": "code",
   "execution_count": 4,
   "metadata": {},
   "outputs": [
    {
     "name": "stdout",
     "output_type": "stream",
     "text": [
      "Enter Subject marks of English70\n",
      "Enter Subject marks of Urdu78\n",
      "Enter Subject marks of Islamiat98\n",
      "Enter Subject marks of Math78\n",
      "Enter Subject marks of Chemistry78\n",
      "Grade is A \n",
      "Total Marks are  550\n",
      "Obtained Marks  402\n",
      "Percentage is  73.0909090909091\n"
     ]
    }
   ],
   "source": [
    "eng= int(input(\"Enter Subject marks of English\"));\n",
    "urdu= int(input(\"Enter Subject marks of Urdu\"));\n",
    "islamiat= int(input(\"Enter Subject marks of Islamiat\"));\n",
    "math= int(input(\"Enter Subject marks of Math\"));\n",
    "chem= int(input(\"Enter Subject marks of Chemistry\"));\n",
    "\n",
    "obtainedMarks= eng + urdu + islamiat + math + chem;\n",
    "totalMarks=550;\n",
    "percentage= obtainedMarks * 100 /totalMarks;\n",
    "\n",
    "if(percentage >= 80):\n",
    "    \n",
    "    print(\"Grade is A+ \")\n",
    "    \n",
    "elif(percentage >= 70 and percentage < 80):\n",
    "    \n",
    "    print(\"Grade is A \")\n",
    "elif(percentage >= 60 and percentage < 70):\n",
    "    \n",
    "            print(\"Grade is B \")\n",
    "        \n",
    "elif(percentage >= 50 and percentage < 60):\n",
    "        \n",
    "        print(\"Grade is C \")\n",
    "        \n",
    "elif(percentage >= 40 and percentage <50):\n",
    "        \n",
    "        print(\"Grade is D \")\n",
    "        \n",
    "elif(percentage >= 30 and percentage < 40):\n",
    "        \n",
    "        print(\"Grade is E \")\n",
    "        \n",
    "else: print(\"You are fail\")\n",
    "\n",
    "print(\"Total Marks are \" , totalMarks)\n",
    "print(\"Obtained Marks \" , obtainedMarks)\n",
    "print(\"Percentage is \" ,percentage)\n"
   ]
  },
  {
   "cell_type": "code",
   "execution_count": 7,
   "metadata": {},
   "outputs": [
    {
     "name": "stdout",
     "output_type": "stream",
     "text": [
      "Enter A Number6\n",
      "The number is Even : 6\n"
     ]
    }
   ],
   "source": [
    "checkNumber=int(input(\"Enter A Number\"))\n",
    "if(checkNumber %2 ==0 ):\n",
    "    \n",
    "    print(\"The number is Even :\",checkNumber)\n",
    "else : print(checkNumber,\"The number is Odd\")"
   ]
  },
  {
   "cell_type": "code",
   "execution_count": 8,
   "metadata": {},
   "outputs": [
    {
     "name": "stdout",
     "output_type": "stream",
     "text": [
      "The Length of the list is : 7\n"
     ]
    }
   ],
   "source": [
    "myList= [\"Karachi\", \"Lahore\", \"Islamabad\", \"Pindi\", \"Gujranwaala\", \"Quetta\", \"Sibbi\"]\n",
    "print(\"The Length of the list is :\",len(myList))"
   ]
  },
  {
   "cell_type": "code",
   "execution_count": 9,
   "metadata": {},
   "outputs": [
    {
     "name": "stdout",
     "output_type": "stream",
     "text": [
      "Total of All the numbers in List is  219\n"
     ]
    }
   ],
   "source": [
    "myList= [15, 30, 7, 89, 78]\n",
    "print(\"Total of All the numbers in List is \" ,sum(myList))"
   ]
  },
  {
   "cell_type": "code",
   "execution_count": 10,
   "metadata": {},
   "outputs": [
    {
     "name": "stdout",
     "output_type": "stream",
     "text": [
      "biggest number in List is : 89\n"
     ]
    }
   ],
   "source": [
    "myList= [15, 30, 7, 89, 78]\n",
    "print(\"biggest number in List is :\", max(myList))"
   ]
  },
  {
   "cell_type": "code",
   "execution_count": 12,
   "metadata": {},
   "outputs": [
    {
     "name": "stdout",
     "output_type": "stream",
     "text": [
      "The number is less than 5  1\n",
      "The number is less than 5  2\n",
      "The number is less than 5  3\n",
      "The number is less than 5  4\n"
     ]
    }
   ],
   "source": [
    "a = [1, 18, 2, 3, 4, 5, 8, 13, 21, 34, 55, 89]\n",
    "for i in a:\n",
    "    \n",
    "    if(i < 5):\n",
    "        print(\"The number is less than 5 \",i)"
   ]
  },
  {
   "cell_type": "code",
   "execution_count": null,
   "metadata": {},
   "outputs": [],
   "source": []
  }
 ],
 "metadata": {
  "kernelspec": {
   "display_name": "Python 3",
   "language": "python",
   "name": "python3"
  },
  "language_info": {
   "codemirror_mode": {
    "name": "ipython",
    "version": 3
   },
   "file_extension": ".py",
   "mimetype": "text/x-python",
   "name": "python",
   "nbconvert_exporter": "python",
   "pygments_lexer": "ipython3",
   "version": "3.7.4"
  }
 },
 "nbformat": 4,
 "nbformat_minor": 2
}
