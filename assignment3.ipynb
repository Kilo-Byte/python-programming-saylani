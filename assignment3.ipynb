{
 "cells": [
  {
   "cell_type": "code",
   "execution_count": 2,
   "metadata": {},
   "outputs": [
    {
     "name": "stdout",
     "output_type": "stream",
     "text": [
      "Enter First Number4\n",
      "Enter Second Number7\n",
      "Enter operator to perform desired calculation+\n",
      "The adiition is  11\n"
     ]
    }
   ],
   "source": [
    "num1=int(input(\"Enter First Number \"))\n",
    "num2=int(input(\"Enter Second Number \"))\n",
    "operator=input(\"Enter operator to perform desired calculation \")\n",
    "\n",
    "if (operator== \"+\"):\n",
    "    number= num1 + num2\n",
    "    print(\"The adiition is \",number)\n",
    "elif (operator== \"-\"):\n",
    "    number= num1 - num2\n",
    "    print(\"The subtraction is \",number)\n",
    "elif (operator== \"*\"):\n",
    "    number= num1 * num2\n",
    "    print(\"The multiplication is \",number)\n",
    "elif (operator== \"/\"):\n",
    "    number= num1 / num2\n",
    "    print(\"The division is \",number)\n",
    "else: print(\"Please enter a valid operator eg. + , / , * , - \")\n"
   ]
  },
  {
   "cell_type": "code",
   "execution_count": 5,
   "metadata": {},
   "outputs": [
    {
     "name": "stdout",
     "output_type": "stream",
     "text": [
      "<class 'int'>\n"
     ]
    }
   ],
   "source": [
    "val=78\n",
    "print(type(val))"
   ]
  },
  {
   "cell_type": "code",
   "execution_count": 39,
   "metadata": {},
   "outputs": [
    {
     "name": "stdout",
     "output_type": "stream",
     "text": [
      "47\n",
      "108\n"
     ]
    }
   ],
   "source": [
    "item=[\"karachi\", 47, \"lahore\", \"islamabad\", 108, \"pindi\"]\n",
    "for num in item:\n",
    "    if isinstance(num, int):\n",
    "        print(num)  \n",
    "        \n",
    "            "
   ]
  },
  {
   "cell_type": "code",
   "execution_count": 52,
   "metadata": {},
   "outputs": [
    {
     "name": "stdout",
     "output_type": "stream",
     "text": [
      "{'val1': 15, 'val2': 45, 'val3': 78}\n",
      "updated dictionary value {'val1': 15, 'val2': 45, 'val3': 78, 'val4': 100}\n",
      "The sum of all numbers in dictiory is  238\n"
     ]
    }
   ],
   "source": [
    "dic={\"val1\":15, \"val2\":45, \"val3\":78}\n",
    "print(dic)\n",
    "\n",
    "dic.update({\"val4\":100})\n",
    "print(\"updated dictionary value\",dic)\n",
    "\n",
    "print(\"The sum of all numbers in dictiory is \",sum(dic.values()))"
   ]
  },
  {
   "cell_type": "code",
   "execution_count": 60,
   "metadata": {},
   "outputs": [
    {
     "name": "stdout",
     "output_type": "stream",
     "text": [
      "List, with duplication  [4, 7, 10, 78, 98, 7, 100, 78]\n",
      "Duplicate values are removed in this list  [4, 7, 10, 78, 98, 100]\n"
     ]
    }
   ],
   "source": [
    "my_list=[4, 7, 10, 78, 98, 7,100,78]\n",
    "updated_list=[]\n",
    "\n",
    "for numbers in my_list:\n",
    "    if numbers not in updated_list:\n",
    "        updated_list.append(numbers)\n",
    "print(\"List, with duplication \", my_list)\n",
    "print(\"Duplicate values are removed in this list \",updated_list)\n",
    "\n"
   ]
  },
  {
   "cell_type": "code",
   "execution_count": null,
   "metadata": {},
   "outputs": [],
   "source": [
    "dic={\"val1\":15, \"val2\":45, \"val3\":78}"
   ]
  }
 ],
 "metadata": {
  "kernelspec": {
   "display_name": "Python 3",
   "language": "python",
   "name": "python3"
  },
  "language_info": {
   "codemirror_mode": {
    "name": "ipython",
    "version": 3
   },
   "file_extension": ".py",
   "mimetype": "text/x-python",
   "name": "python",
   "nbconvert_exporter": "python",
   "pygments_lexer": "ipython3",
   "version": "3.7.4"
  }
 },
 "nbformat": 4,
 "nbformat_minor": 2
}
