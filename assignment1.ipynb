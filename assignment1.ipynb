{
 "cells": [
  {
   "cell_type": "code",
   "execution_count": 1,
   "metadata": {},
   "outputs": [
    {
     "name": "stdout",
     "output_type": "stream",
     "text": [
      "Twinkle, twinkle, little star,\n",
      "       How I wonder what you are!\n",
      "             Up above the world so high,\n",
      "             Like a diamond in the sky.\n",
      "Twinkle, twinkle, little star,\n",
      "       How I wonder what you are\n"
     ]
    }
   ],
   "source": [
    "print(\"Twinkle, twinkle, little star,\")\n",
    "print(\"       How I wonder what you are!\")\n",
    "print(\"             Up above the world so high,\")\n",
    "print(\"             Like a diamond in the sky.\")\n",
    "print(\"Twinkle, twinkle, little star,\")\n",
    "print(\"       How I wonder what you are\")\n"
   ]
  },
  {
   "cell_type": "code",
   "execution_count": 2,
   "metadata": {},
   "outputs": [
    {
     "name": "stdout",
     "output_type": "stream",
     "text": [
      "3.7.4 (default, Aug  9 2019, 18:34:13) [MSC v.1915 64 bit (AMD64)]\n"
     ]
    }
   ],
   "source": [
    "import sys\n",
    "print(sys.version)\n"
   ]
  },
  {
   "cell_type": "code",
   "execution_count": 3,
   "metadata": {},
   "outputs": [
    {
     "name": "stdout",
     "output_type": "stream",
     "text": [
      "2019-11-22 13:46:32.577885\n"
     ]
    }
   ],
   "source": [
    "from datetime import datetime\n",
    "\n",
    "print(datetime.now())"
   ]
  },
  {
   "cell_type": "code",
   "execution_count": 4,
   "metadata": {},
   "outputs": [
    {
     "name": "stdout",
     "output_type": "stream",
     "text": [
      "Enter the radius to calculate the area of circle 5\n",
      "the are of circle is 78.53981633974483\n"
     ]
    }
   ],
   "source": [
    "from math import pi\n",
    "\n",
    "area=float(input(\"Enter the radius to calculate the area of circle \"))\n",
    "print(\"the are of circle is \"+ str(pi * area**2))\n"
   ]
  },
  {
   "cell_type": "code",
   "execution_count": 5,
   "metadata": {},
   "outputs": [
    {
     "name": "stdout",
     "output_type": "stream",
     "text": [
      "Write first nameKhudadada\n",
      "Write last nameBaloch\n",
      "your last name is Baloch and first name is Khudadada\n"
     ]
    }
   ],
   "source": [
    "firstName=input(\"Write first name\");\n",
    "lastName=input(\"Write last name\");\n",
    "print(\"your last name is\",lastName,  \"and first name is\",firstName)\n"
   ]
  },
  {
   "cell_type": "code",
   "execution_count": 6,
   "metadata": {},
   "outputs": [
    {
     "name": "stdout",
     "output_type": "stream",
     "text": [
      "Enter First Number to ADD7\n",
      "ENter second Number to ADD7\n",
      "The Addition of two numbers is  14\n"
     ]
    }
   ],
   "source": [
    "num1=int(input(\"Enter First Number to ADD \"))\n",
    "num2=int(input(\"ENter second Number to ADD \"))\n",
    "\n",
    "addition= num1 + num2\n",
    "print(\"The Addition of two numbers is \",addition)"
   ]
  },
  {
   "cell_type": "code",
   "execution_count": null,
   "metadata": {},
   "outputs": [],
   "source": []
  }
 ],
 "metadata": {
  "kernelspec": {
   "display_name": "Python 3",
   "language": "python",
   "name": "python3"
  },
  "language_info": {
   "codemirror_mode": {
    "name": "ipython",
    "version": 3
   },
   "file_extension": ".py",
   "mimetype": "text/x-python",
   "name": "python",
   "nbconvert_exporter": "python",
   "pygments_lexer": "ipython3",
   "version": "3.7.4"
  }
 },
 "nbformat": 4,
 "nbformat_minor": 2
}
