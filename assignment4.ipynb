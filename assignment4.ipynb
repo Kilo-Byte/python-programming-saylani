{
 "cells": [
  {
   "cell_type": "code",
   "execution_count": 1,
   "metadata": {},
   "outputs": [
    {
     "name": "stdout",
     "output_type": "stream",
     "text": [
      "Ahsan\n",
      "Khan\n",
      "23\n",
      "Karachi\n",
      "Master's\n",
      "This is updated value in Dictoionary  Master's\n"
     ]
    }
   ],
   "source": [
    "person={\"first-name\":\"Ahsan\", \"last-name\":\"Khan\", \"age\":23,\"City\":\"Karachi\"}\n",
    "\n",
    "person[\"qualification\"]=\"Master's\"\n",
    "\n",
    "for each_info in person.values():\n",
    "    \n",
    "    print(each_info)\n",
    "person[\"qualification\"]=\"MASTERS IN COMPUTER SCIENCES\"\n",
    "print(\"This is updated value in Dictoionary \",each_info)"
   ]
  },
  {
   "cell_type": "code",
   "execution_count": 2,
   "metadata": {},
   "outputs": [
    {
     "name": "stdout",
     "output_type": "stream",
     "text": [
      "{'Country': 'Pakistan', 'Population': 220000000, 'Fact of City': 'Biggest and Beatiful City of Pakistan'}\n",
      "_____________________________________________________________________________________________________________________\n",
      "{'Country': 'Unitied Kingdom', 'Population': 1500000, 'Fact of City': 'Biggest and Beatiful City of United Kingdom'}\n",
      "_____________________________________________________________________________________________________________________\n",
      "{'Country': 'Pakistan', 'Population': 1700000, 'Fact of City': ' Beatiful and Capital City of Pakistan'}\n",
      "_____________________________________________________________________________________________________________________\n",
      "\n",
      "\n",
      "Biggest and Beatiful City of United Kingdom\n"
     ]
    }
   ],
   "source": [
    "cities={\"Karachi\":{\"Country\":\"Pakistan\", \"Population\": 220000000, \"Fact of City\":\"Biggest and Beatiful City of Pakistan\"}, \"London\":{\"Country\":\"Unitied Kingdom\",\"Population\": 1500000, \"Fact of City\":\"Biggest and Beatiful City of United Kingdom\"}, \"Islamabad\":{\"Country\":\"Pakistan\",\"Population\": 1700000, \"Fact of City\":\" Beatiful and Capital City of Pakistan\"} }\n",
    "\n",
    "for each_key in cities:\n",
    "    print(cities[each_key])\n",
    "    print(\"_____________________________________________________________________________________________________________________\")\n",
    " \n",
    "print(\"\\n\")\n",
    "print(cities[\"London\"][\"Fact of City\"])"
   ]
  },
  {
   "cell_type": "code",
   "execution_count": 4,
   "metadata": {},
   "outputs": [
    {
     "name": "stdout",
     "output_type": "stream",
     "text": [
      "Enter Your Age13\n",
      "The ticket price is $15 \n"
     ]
    }
   ],
   "source": [
    "age= int(input(\"Enter Your Age\"))\n",
    "\n",
    "if age < 3:\n",
    "    print(\"Your Entry is FREE\")\n",
    "elif age < 13:\n",
    "    print(\"The ticket price is $10 \")\n",
    "else:\n",
    "    print(\"The ticket price is $15 \")"
   ]
  },
  {
   "cell_type": "code",
   "execution_count": 5,
   "metadata": {},
   "outputs": [
    {
     "name": "stdout",
     "output_type": "stream",
     "text": [
      "such as One of my favorite books is Alice in Wonderland\n"
     ]
    }
   ],
   "source": [
    "def favorite_book(title):\n",
    "    print (title)\n",
    "\n",
    "favorite_book(\"such as One of my favorite books is Alice in Wonderland\") "
   ]
  },
  {
   "cell_type": "code",
   "execution_count": 6,
   "metadata": {},
   "outputs": [
    {
     "name": "stdout",
     "output_type": "stream",
     "text": [
      "Enter a Number to Guess4\n",
      "your number is less then  \n",
      "Enter a Number to Guess5\n",
      "your number is less then  \n",
      "Enter a Number to Guess7\n",
      "your number is less then  \n",
      "Enter a Number to Guess9\n",
      "your number is less then  \n",
      "Enter a Number to Guess12\n",
      "your number is less then  \n",
      "Enter a Number to Guess14\n",
      "your number is greater then  \n",
      "Enter a Number to Guess13\n",
      "********* You guess the right number*************\n"
     ]
    }
   ],
   "source": [
    "from random import *\n",
    "\n",
    "random  = randint(1, 30)\n",
    "while True:\n",
    "    user_input=int(input(\"Enter a Number to Guess\"))\n",
    "    if user_input > random:\n",
    "        print(\"your number is greater then  \")\n",
    "        \n",
    "    elif user_input < random:\n",
    "        print(\"your number is less then  \")\n",
    "    \n",
    "    else:\n",
    "        print(\"********* You guess the right number*************\")\n",
    "        break"
   ]
  },
  {
   "cell_type": "code",
   "execution_count": null,
   "metadata": {},
   "outputs": [],
   "source": []
  }
 ],
 "metadata": {
  "kernelspec": {
   "display_name": "Python 3",
   "language": "python",
   "name": "python3"
  },
  "language_info": {
   "codemirror_mode": {
    "name": "ipython",
    "version": 3
   },
   "file_extension": ".py",
   "mimetype": "text/x-python",
   "name": "python",
   "nbconvert_exporter": "python",
   "pygments_lexer": "ipython3",
   "version": "3.7.4"
  }
 },
 "nbformat": 4,
 "nbformat_minor": 2
}
